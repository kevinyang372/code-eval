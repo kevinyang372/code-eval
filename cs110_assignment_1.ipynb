{
 "cells": [
  {
   "cell_type": "markdown",
   "metadata": {},
   "source": [
    "Before you turn this problem in, make sure everything runs as expected. First, **restart the kernel** (in the menubar, select Kernel$\\rightarrow$Restart) and then **run all cells** (in the menubar, select Cell$\\rightarrow$Run All).\n",
    "\n",
    "Make sure you fill in any place that says `YOUR CODE HERE` or \"YOUR ANSWER HERE\", as well as your name and collaborators below:"
   ]
  },
  {
   "cell_type": "code",
   "execution_count": 15,
   "metadata": {},
   "outputs": [],
   "source": [
    "NAME = \"\"\n",
    "COLLABORATORS = \"\""
   ]
  },
  {
   "cell_type": "markdown",
   "metadata": {},
   "source": [
    "---"
   ]
  },
  {
   "cell_type": "markdown",
   "metadata": {
    "deletable": false,
    "editable": false,
    "nbgrader": {
     "checksum": "b40a3a7f6a8c68f100a7bd3ae895c3ee",
     "grade": false,
     "grade_id": "cell-1127d0babde89bd7",
     "locked": true,
     "schema_version": 1,
     "solution": false
    }
   },
   "source": [
    "\n",
    "# CS110 Spring 2020- Assignment 1\n",
    "# Divide and Conquer Sorting Algorithms\n",
    "\n",
    "This assignment focuses on the implementation of sorting algorithms and analyzing their performance both mathematically (using theoretical arguments on the asymptotic behavior of algorithms ) and experimentally (i.e., running experiments for different input arrays and plotting relevant performance results). \n",
    "\n",
    "Every CS110 assignment begins with a check-up on your class responsibilities and professional standing. If you have submitted make-up work, you will also receive formative feedback on it, accompanied by a grade reflecting on your ability to address one of the course LOs. Thus to complete the first part of this assignment, you will need to take a screenshot of your CS110 dashboard on Forum where the following is visible:\n",
    "\n",
    "* your name.\n",
    "* your absences for the course have been set to excused up to the last session from week 2 (inclusively) .\n",
    "\n",
    "This will be evidence that you have submitted acceptable pre-class and make-up work for a CS110 session you may have missed. Please check the specific CS110 make-up and pre-class policies in the syllabus of the course.\n",
    "\n",
    "\n",
    "**NOTES:**\n",
    "\n",
    "1. Your assignment submission needs to include the following resources:\n",
    "\n",
    "* A PDF file must be the first resource. This file must be generated from the template notebook where you have written all of the answers (check this [link](https://docs.google.com/document/d/1gRMol9Ebbvyu1mvEKzma92o_N7ZbNXsPIb1QdQV0TeE/edit#heading=h.10jakf1cwxpq) for instructions on how to do this). Make sure that the PDF displays properly (all text and code can be seen within the paper margins), and that your work is neat and clearly presented. \n",
    "* Your second resource must be the template notebook you have downloaded from the gist provided and where you included your answers. The name of this resource must include your own name. Submit this file directly following the directions in this picture:\n",
    "\n",
    "\n",
    "<img src=\"images/upload.png\" width=\"800\" height=\"200\">\n",
    "\n",
    "If you are unable to submit the jupyter notebook directly, please compress all the materials of your submission, and submit the zip file as your second resource instead.\n",
    "\n",
    "2. Tasks (1)-(7) will be graded on the indicated LOs; please make sure to consult their descriptions and rubrics in the course syllabus. You will not be penalized for not attempting the optional challenge.\n",
    "\n",
    "3. In this first assignment, you will receive formative feedback on your reference, application and justification of the HCs but no actual grades. Only in subsequent assignments will the HCs applications be graded. This is an opportunity for you to deepen your argumentation skills without generating a grade. \n",
    "\n",
    "As such, after completing the assignment, evaluate the application of the HCs you have identified prior to and while you were working on this assignment and footnote them (refer to [these guidelines](https://docs.google.com/document/d/1s7yOVOtMIaHQdKLeRmZbq1gRqwJKfezBsfru9Q6PcHw/edit) on how to incorporate HCs in your work). \n",
    "\n",
    "Here are some examples of weak applications of some of the relevant HCs:\n",
    "\n",
    "* Example 1: “#algorithms: I wrote an implementation of Bubble sort”. \n",
    "    * This is an extremely superficial use of the HC in a course on Algorithms, and your reference will be graded accordingly. Instead, consider what constitutes an algorithm (see Cormen et al., sections 1.1 and 1.2). Once you have a good definition of an algorithm, think of how this notion helped you approach the implementation of the algorithm, analyze its complexity and understand why it’s important to write an optimal Python implementation of the algorithm.\n",
    "\n",
    "* Example 2: “#dataviz: I plotted nice curves showing the execution time of bubble sort, or I plotted beautiful curves with different colors and labels.”\n",
    "\n",
    "    * Again, these two examples are very superficial uses of the HC #dataviz. Instead, consider writing down how do the plots and figures helped you interpret, analyze and write concluding remarks from your experiments. Or write about any insight you included in your work that came from being able to visualize the curves.\n",
    "\n",
    "\n",
    "* Example 3: “#professionalism: I wrote a nice paper/article that follows all the directions in this assignment.” \n",
    "\n",
    "    * By now, you should realize that this is a poor application of the HC #professionalism. Instead, comment on how you actively considered the HC while deciding on the format, length, and style for writing your report.\n",
    "\n",
    "4. Your code will be tested for similarity using Turnitin, both to other students’ work and examples available online. As such, be sure to cite all references that you used in devising your solution. Any plagiarism attempts will be referred to the ASC, as per the course’s policy in the syllabus.\n",
    "\n",
    "\n",
    "** Complete the following tasks which will be graded in the designated LOs and foregrounded HCs (please consult the LOs rubrics on the syllabus):**\n",
    "\n",
    "## Question 1. [HCs #responsibility; appropriate LO]\n",
    "\n",
    "Submit a screenshot of your CS110 dashboard with the information described above. You can do this by writing:\n",
    "```\n",
    "from IPython.display import Image\n",
    "Image(filename=’your_screenshot.png’)\n",
    "```"
   ]
  },
  {
   "cell_type": "code",
   "execution_count": 3,
   "metadata": {
    "deletable": false,
    "nbgrader": {
     "checksum": "0213df8457d00052ca84409fbb119a7c",
     "grade": true,
     "grade_id": "cell-e76d08e5c403180f",
     "locked": false,
     "points": 0,
     "schema_version": 1,
     "solution": true
    }
   },
   "outputs": [],
   "source": []
  },
  {
   "cell_type": "markdown",
   "metadata": {
    "deletable": false,
    "editable": false,
    "nbgrader": {
     "checksum": "b3c8a8e1fd87a705f8ae943081513797",
     "grade": false,
     "grade_id": "cell-2a94124c1b43fea6",
     "locked": true,
     "schema_version": 1,
     "solution": false
    }
   },
   "source": [
    "## Question 2. [#SortingAlgorithms, #PythonProgramming, #CodeReadability] \n",
    "\n",
    "Write a Python 3 implementation of the three-way merge sort algorithm discussed in class using the code skeleton below. You should also provide at least three test cases (possibly edge cases) that demonstrate the correctness of your code. Your output must be a sorted **Python list.**\n"
   ]
  },
  {
   "cell_type": "code",
   "execution_count": 23,
   "metadata": {
    "deletable": false,
    "nbgrader": {
     "checksum": "52fc4bd029432fb3de26fbea6da20cbf",
     "grade": false,
     "grade_id": "cell-47961f0da38f1381",
     "locked": false,
     "schema_version": 1,
     "solution": true
    }
   },
   "outputs": [],
   "source": [
    "def three_way_merge(arr):\n",
    "    for i in range(len(arr)):\n",
    "        minimum = i\n",
    "        for j in range(i, len(arr)):\n",
    "            if arr[j] < arr[minimum]:\n",
    "                minimum = j\n",
    "        arr[i], arr[minimum] = arr[minimum], arr[i]\n",
    "    return list(arr)"
   ]
  },
  {
   "cell_type": "code",
   "execution_count": 24,
   "metadata": {
    "deletable": false,
    "editable": false,
    "nbgrader": {
     "checksum": "d0e00aa2481aea1232da19ec1692f45c",
     "grade": true,
     "grade_id": "cell-41b1d220414c9bd0",
     "locked": true,
     "points": 1,
     "schema_version": 1,
     "solution": false
    }
   },
   "outputs": [],
   "source": [
    "assert(three_way_merge([4,3,2,1]) == [1,2,3,4])\n",
    "assert(three_way_merge(np.array([4,3,2,1])) == [1,2,3,4]) "
   ]
  },
  {
   "cell_type": "markdown",
   "metadata": {
    "deletable": false,
    "editable": false,
    "nbgrader": {
     "checksum": "fc1955ef79cb6aaf4508478f72b426cf",
     "grade": false,
     "grade_id": "cell-bf1e08fbb21272f7",
     "locked": true,
     "schema_version": 1,
     "solution": false
    }
   },
   "source": [
    "## Question 3.  [#SortingAlgorithms, #PythonProgramming, #CodeReadability, #ComputationalCritique] \n",
    "\n",
    "Implement a second version of a three-way merge sort that calls bubble sort when sublists are below a certain length (of your choice) rather than continuing the subdivision process. Justify on the basis of theoretical and potentially also experimental arguments what might be an appropriate threshold for the input array for applying bubble sort.\n"
   ]
  },
  {
   "cell_type": "code",
   "execution_count": 25,
   "metadata": {
    "deletable": false,
    "nbgrader": {
     "checksum": "bda5610ee1c06392a5c75a11acd4aaf0",
     "grade": false,
     "grade_id": "cell-e1e72cc08eb6a5f0",
     "locked": false,
     "schema_version": 1,
     "solution": true
    }
   },
   "outputs": [],
   "source": [
    "def extended_three_way_merge(arr):\n",
    "    for i in range(len(arr)):\n",
    "        minimum = i\n",
    "        for j in range(i, len(arr)):\n",
    "            if arr[j] < arr[minimum]:\n",
    "                minimum = j\n",
    "        arr[i], arr[minimum] = arr[minimum], arr[i]\n",
    "    return list(arr)"
   ]
  },
  {
   "cell_type": "code",
   "execution_count": 26,
   "metadata": {
    "deletable": false,
    "editable": false,
    "nbgrader": {
     "checksum": "67aa3d8368da069e20c5a02e417f6e2f",
     "grade": true,
     "grade_id": "cell-8ab1cb1e1b4c76fb",
     "locked": true,
     "points": 0,
     "schema_version": 1,
     "solution": false
    }
   },
   "outputs": [],
   "source": [
    "assert(extended_three_way_merge([4,3,2,1]) == [1,2,3,4])\n",
    "assert(extended_three_way_merge(np.array([4,3,2,1])) == [1,2,3,4]) "
   ]
  },
  {
   "cell_type": "markdown",
   "metadata": {
    "deletable": false,
    "editable": false,
    "nbgrader": {
     "checksum": "19e6aa4b6b6d26cdfe75d36d77e68f9f",
     "grade": false,
     "grade_id": "cell-05230d0283ee03d4",
     "locked": true,
     "schema_version": 1,
     "solution": false
    }
   },
   "source": [
    "## Question 4 [#SortingAlgorithms, #PythonProgramming, #CodeReadability] \n",
    "\n",
    "Bucket sort (or Bin sort) is an algorithm that takes as inputs an n-element array and the number of buckets, k, to be used during sorting.  Then, the algorithm distributes the elements of the input array into k-different buckets and proceeds to sort the individual buckets. Then, merges the sorted buckets to obtained the sorted array. Here is pseudocode for the BucketSort algorithm:\n",
    "\n",
    "<img src=\"images/bucket.png\" width=\"800\" height=\"200\">\n",
    "\n",
    "The BucketSort code above calls the function GetBucketNum  (see the pseudocode below) to distribute all the elements of array A into k-buckets.  Every element in the array is assigned a bucket number based on its value (positive or negative numbers). GetBucketNum returns the bucket number that corresponds to element A[i].   It takes as inputs the element of the array, A[i], the max and min elements in A, the size of the intervals in every bucket (e.g., if you have numbers with values between  0 and 100 numbers and 5 buckets, every bucket has an interval of size 20 = [100-0]/5).  Notice that in pseudocode, the indices of the arrays are from 1 to n. Thus, GetBucketNum consistently returns a number between 1 and n (make sure you account for this in your Python program).\n",
    "\n",
    "\n",
    "<img src=\"images/getbucketnum.png\" width=\"800\" height=\"200\">\n",
    "\n",
    "Write a Python 3 implementation of BucketSort that uses the bubble sort algorithm for sorting the individual buckets in line 10 of the algorithm."
   ]
  },
  {
   "cell_type": "code",
   "execution_count": 27,
   "metadata": {
    "deletable": false,
    "nbgrader": {
     "checksum": "3c43cacdf4e5272a4f062b7d3a5e3ccc",
     "grade": false,
     "grade_id": "cell-4f283016e5365a91",
     "locked": false,
     "schema_version": 1,
     "solution": true
    }
   },
   "outputs": [],
   "source": [
    "def bucket_sort(arr, k):\n",
    "    for i in range(len(arr)):\n",
    "        minimum = i\n",
    "        for j in range(i, len(arr)):\n",
    "            if arr[j] < arr[minimum]:\n",
    "                minimum = j\n",
    "        arr[i], arr[minimum] = arr[minimum], arr[i]\n",
    "    return list(arr)"
   ]
  },
  {
   "cell_type": "code",
   "execution_count": 28,
   "metadata": {
    "deletable": false,
    "editable": false,
    "nbgrader": {
     "checksum": "48101974eb50e24695c14057726cdf08",
     "grade": true,
     "grade_id": "cell-2a287ffea077a4e6",
     "locked": true,
     "points": 1,
     "schema_version": 1,
     "solution": false
    }
   },
   "outputs": [],
   "source": [
    "assert(bucket_sort([4,3,2,1], 1) == [1,2,3,4])\n",
    "assert(bucket_sort(np.array([4,3,2,1]), 1) == [1,2,3,4])\n",
    "assert(bucket_sort([4,3,2,1], 3) == [1,2,3,4])\n",
    "assert(bucket_sort(np.array([4,3,2,1]), 3) == [1,2,3,4])"
   ]
  },
  {
   "cell_type": "markdown",
   "metadata": {
    "deletable": false,
    "editable": false,
    "nbgrader": {
     "checksum": "d720b82cffed91c73c65f935dce98c9c",
     "grade": false,
     "grade_id": "cell-280061fa442a3cdf",
     "locked": true,
     "schema_version": 1,
     "solution": false
    }
   },
   "source": [
    "## Question 5 [#SortingAlgorithms, #PythonProgramming, #CodeReadability]\n",
    "\n",
    "Implement a second version of the BucketSort algorithm. This time in line 10 of BucketSort apply the Bucket sort algorithm recursively until the size of the bucket is less than or equal to k, the base case (notice that fewer than k partitions will be inefficient).\n"
   ]
  },
  {
   "cell_type": "code",
   "execution_count": 29,
   "metadata": {
    "deletable": false,
    "nbgrader": {
     "checksum": "57dbe67cb68f6268950463afaf5ababa",
     "grade": false,
     "grade_id": "cell-d90434b2aa46d9aa",
     "locked": false,
     "schema_version": 1,
     "solution": true
    }
   },
   "outputs": [],
   "source": [
    "def extended_bucket_sort(arr, k):\n",
    "    for i in range(len(arr)):\n",
    "        minimum = i\n",
    "        for j in range(i, len(arr)):\n",
    "            if arr[j] < arr[minimum]:\n",
    "                minimum = j\n",
    "        arr[i], arr[minimum] = arr[minimum], arr[i]\n",
    "    return list(arr)"
   ]
  },
  {
   "cell_type": "code",
   "execution_count": 30,
   "metadata": {
    "deletable": false,
    "editable": false,
    "nbgrader": {
     "checksum": "cebb0168976148f3e697e1d2e0c4f727",
     "grade": true,
     "grade_id": "cell-a42f473f6bd53e24",
     "locked": true,
     "points": 1,
     "schema_version": 1,
     "solution": false
    }
   },
   "outputs": [],
   "source": [
    "assert(extended_bucket_sort([4,3,2,1], 1) == [1,2,3,4])\n",
    "assert(extended_bucket_sort(np.array([4,3,2,1]), 1) == [1,2,3,4])\n",
    "assert(extended_bucket_sort([4,3,2,1], 3) == [1,2,3,4])\n",
    "assert(extended_bucket_sort(np.array([4,3,2,1]), 3) == [1,2,3,4])"
   ]
  },
  {
   "cell_type": "markdown",
   "metadata": {
    "deletable": false,
    "editable": false,
    "nbgrader": {
     "checksum": "6067f95c6b23e98e07fb691da8fc7ade",
     "grade": false,
     "grade_id": "cell-13706de3e5f69cf9",
     "locked": true,
     "schema_version": 1,
     "solution": false
    }
   },
   "source": [
    "## Question 6 [#ComplexityAnalysis, #ComputationalCritique] \n",
    "\n",
    "Analyze and compare the practical run times of regular merge sort (i.e., two-way merge sort), three-way merge sort, and the augmented merge sort from (3) by producing a plot that illustrates how every running time grows with input size. Make sure to:\n",
    "\n",
    "1. define what each algorithm's complexity is\n",
    "2. enumerate the explicit assumptions made to assess each run time of the algorithm's run time.\n",
    "3. and compare your benchmarks with the theoretical result we have discussed in class.\n"
   ]
  },
  {
   "cell_type": "code",
   "execution_count": 12,
   "metadata": {
    "deletable": false,
    "nbgrader": {
     "checksum": "b27c65928ef98faa0539bcb27f7a6eb7",
     "grade": true,
     "grade_id": "cell-7de481a7d24e508b",
     "locked": false,
     "points": 0,
     "schema_version": 1,
     "solution": true
    }
   },
   "outputs": [],
   "source": [
    "# YOUR CODE HERE"
   ]
  },
  {
   "cell_type": "markdown",
   "metadata": {
    "deletable": false,
    "editable": false,
    "nbgrader": {
     "checksum": "182abfd4b5c161d778fd41c1c59b1b0d",
     "grade": false,
     "grade_id": "cell-f6182ad360cf8184",
     "locked": true,
     "schema_version": 1,
     "solution": false
    }
   },
   "source": [
    "## Question 7. [#ComplexityAnalysis, #ComputationalCritique] \n",
    "\n",
    "Analyze and compare the practical run times of regular merge sort (i.e., two-way merge sort), Bucket sort, and extended_bucket_sort by producing a plot that illustrates how the algorithms' runtimes depend on both the input size and the nature of the input (e.g., totally randomized inputs vs inversely sorted inputs). Make sure to:\n",
    "\n",
    "1. define what each algorithm's complexity is in terms of the BigO notation\n",
    "2. enumerate the explicit assumptions made to assess each algorithm's run time\n",
    "3. analyze the running times on inputs of at least three different natures\n",
    "4. and compare your benchmarks with the theoretical result we have discussed in class.\n"
   ]
  },
  {
   "cell_type": "code",
   "execution_count": 13,
   "metadata": {
    "deletable": false,
    "nbgrader": {
     "checksum": "dace8b567522d6b9040779f6fcf6dafd",
     "grade": true,
     "grade_id": "cell-76dce7d4abf57157",
     "locked": false,
     "points": 0,
     "schema_version": 1,
     "solution": true
    }
   },
   "outputs": [],
   "source": [
    "# YOUR CODE HERE"
   ]
  },
  {
   "cell_type": "markdown",
   "metadata": {
    "deletable": false,
    "editable": false,
    "nbgrader": {
     "checksum": "72149ac74d7f27ebbcdeaa8dd8419c1f",
     "grade": false,
     "grade_id": "cell-3c5032287675ae90",
     "locked": true,
     "schema_version": 1,
     "solution": false
    }
   },
   "source": [
    "## [Optional challenge] Question 8 (#SortingAlgorithm and/or #ComputationalCritique) \n",
    "\n",
    "Implement k-way merge sort, where the user specifies k. Develop and run experiments to support a hypothesis about the “best” value of k.\n"
   ]
  },
  {
   "cell_type": "code",
   "execution_count": 14,
   "metadata": {
    "deletable": false,
    "nbgrader": {
     "checksum": "26d404273e9e57cc94a872d6ab25b565",
     "grade": true,
     "grade_id": "cell-30f70f3f9d3ec067",
     "locked": false,
     "points": 0,
     "schema_version": 1,
     "solution": true
    }
   },
   "outputs": [],
   "source": [
    "# YOUR CODE HERE"
   ]
  },
  {
   "cell_type": "code",
   "execution_count": null,
   "metadata": {},
   "outputs": [],
   "source": []
  }
 ],
 "metadata": {
  "kernelspec": {
   "display_name": "Python 3",
   "language": "python",
   "name": "python3"
  },
  "language_info": {
   "codemirror_mode": {
    "name": "ipython",
    "version": 3
   },
   "file_extension": ".py",
   "mimetype": "text/x-python",
   "name": "python",
   "nbconvert_exporter": "python",
   "pygments_lexer": "ipython3",
   "version": "3.7.3"
  }
 },
 "nbformat": 4,
 "nbformat_minor": 2
}
