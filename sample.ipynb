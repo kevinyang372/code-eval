{
 "cells": [
  {
   "cell_type": "code",
   "execution_count": 1,
   "metadata": {},
   "outputs": [],
   "source": [
    "def three_way_merge(arr):\n",
    "    for i in range(len(arr)):\n",
    "        minimum = i\n",
    "        for j in range(i, len(arr)):\n",
    "            if arr[j] < arr[minimum]:\n",
    "                minimum = j\n",
    "        arr[i], arr[minimum] = arr[minimum], arr[i]\n",
    "    return arr"
   ]
  },
  {
   "cell_type": "code",
   "execution_count": 2,
   "metadata": {},
   "outputs": [],
   "source": [
    "def extended_three_way_merge(arr):\n",
    "    for i in range(len(arr)):\n",
    "        minimum = i\n",
    "        for j in range(i, len(arr)):\n",
    "            if arr[j] < arr[minimum]:\n",
    "                minimum = j\n",
    "        arr[i], arr[minimum] = arr[minimum], arr[i]\n",
    "    return arr"
   ]
  },
  {
   "cell_type": "code",
   "execution_count": 3,
   "metadata": {},
   "outputs": [],
   "source": [
    "def bucket_sort(arr, k):\n",
    "    for i in range(len(arr)):\n",
    "        minimum = i\n",
    "        for j in range(i, len(arr)):\n",
    "            if arr[j] < arr[minimum]:\n",
    "                minimum = j\n",
    "        arr[i], arr[minimum] = arr[minimum], arr[i]\n",
    "    return arr"
   ]
  },
  {
   "cell_type": "code",
   "execution_count": null,
   "metadata": {},
   "outputs": [],
   "source": [
    "def extended_bucket_sort(arr, k):\n",
    "    for i in range(len(arr)):\n",
    "        minimum = i\n",
    "        for j in range(i, len(arr)):\n",
    "            if arr[j] < arr[minimum]:\n",
    "                minimum = j\n",
    "        arr[i], arr[minimum] = arr[minimum], arr[i]\n",
    "    return arr"
   ]
  }
 ],
 "metadata": {
  "kernelspec": {
   "display_name": "Python 3",
   "language": "python",
   "name": "python3"
  },
  "language_info": {
   "codemirror_mode": {
    "name": "ipython",
    "version": 3
   },
   "file_extension": ".py",
   "mimetype": "text/x-python",
   "name": "python",
   "nbconvert_exporter": "python",
   "pygments_lexer": "ipython3",
   "version": "3.7.3"
  }
 },
 "nbformat": 4,
 "nbformat_minor": 2
}
